{
 "cells": [
  {
   "cell_type": "markdown",
   "metadata": {},
   "source": [
    "# Desafio 1\n",
    "\n",
    "Un vector es sinónimo lista, sólo que un vector tiene siempre datos del mismo tipo. Por ejemplo: un vector de números, sólo puede tener números, no palabras.\n",
    "\n",
    "Crear un vector de 10 valores al azar entre 1 y 99\n",
    "\n",
    "Por ejemplo: \n",
    "\n",
    "```python\n",
    "vector = [1, 20, 23, 12, 7, 25, 9, 8, 31, 16]\n",
    "```\n"
   ]
  },
  {
   "cell_type": "code",
   "execution_count": 22,
   "metadata": {},
   "outputs": [
    {
     "name": "stdout",
     "output_type": "stream",
     "text": [
      "[10, 80, 43, 49, 86, 96, 90, 78, 28, 63]\n"
     ]
    }
   ],
   "source": [
    "# Tu código aquí\n",
    "\n"
   ]
  },
  {
   "cell_type": "markdown",
   "metadata": {},
   "source": [
    "<details>\n",
    "\n",
    "<summary> 🤪 TIPS</summary>\n",
    "\n",
    "  - Crear un vector vacío.\n",
    "  - Agregarle item usando `append`\n",
    "  - Usar `for` para evitar repetir cosas manualmente\n",
    "  - Se puede usar `randint` para generar números al azar (random)\n",
    "\n",
    "</details>\n",
    "\n",
    "<br/>\n",
    "\n",
    "<details>\n",
    "\n",
    "<summary> 🤨 RESPUESTA</summary>\n",
    "\n",
    "Esta es una forma de creación de un vector con números al azar:\n",
    "\n",
    "\n",
    "```python\n",
    "from random import randint\n",
    "\n",
    "vector = []\n",
    "for i in range(1, 11):\n",
    "  vector.append(randint(1, 99))\n",
    "\n",
    "print(vector)\n",
    "\n",
    "```\n",
    "</details>\n",
    "\n"
   ]
  },
  {
   "cell_type": "markdown",
   "metadata": {},
   "source": [
    "# Desafío 2\n",
    "\n",
    "Crear una matriz de 100 valores (10 fila y 10 columnas) con números generados al azar entre 1 y 99.\n",
    "Recuerda: una matriz no es mas de que una colección de vectores.\n",
    "\n",
    "Por ejemplo:\n",
    "\n",
    "```python\n",
    "matrix = [\n",
    "  [85,  6, 76, 75, 80, 13, 43,  8, 98, 68], \n",
    "  [47, 41, 19, 26, 77, 81, 55,  8, 77, 77], \n",
    "  [10, 78, 93, 87, 37, 81, 39,  9, 29, 45], \n",
    "  [45, 43, 64, 30, 60, 92,  5, 94, 46, 78], \n",
    "  [60, 22, 27, 81, 57, 16, 35, 96, 87, 68], \n",
    "  [ 3, 37, 59, 78, 84, 82, 25, 21, 99, 89], \n",
    "  [78, 45, 39, 46, 32, 66, 95, 45, 76, 89], \n",
    "  [19, 37, 86, 44, 98, 56, 73, 78,  2, 65], \n",
    "  [99, 29, 81, 27, 82, 50, 94, 60, 15, 19], \n",
    "  [65, 92,  1, 38, 59, 52, 43, 71,  7, 37]\n",
    "]\n",
    "```"
   ]
  },
  {
   "cell_type": "code",
   "execution_count": null,
   "metadata": {},
   "outputs": [],
   "source": [
    "# Tu código aqui\n"
   ]
  },
  {
   "cell_type": "markdown",
   "metadata": {},
   "source": [
    "<details>\n",
    "\n",
    "<summary> 🤪 TIPS</summary>\n",
    "- Una matriz es una colección de vectores (una lista de listas)\n",
    "- `for` es tu mejor amigo para trabajar con listas\n",
    "\n",
    "</details>\n",
    "\n",
    "<br>\n",
    "\n",
    "<details>\n",
    "\n",
    "<summary> 🤨 RESPUESTA</summary>\n",
    "\n",
    "Esta es una forma ineficiente de creación de una matrix:\n",
    "\n",
    "```python\n",
    "from random import randint\n",
    "\n",
    "matrix = []\n",
    "\n",
    "for x in range(1,11):\n",
    "  vector = []\n",
    "  for y in range(1,11):\n",
    "    vector.append(randint(1,99))\n",
    "  matrix.append(vector)\n",
    "\n",
    "print(matrix)\n",
    "\n",
    "```\n",
    "</details>\n",
    "\n"
   ]
  }
 ],
 "metadata": {
  "kernelspec": {
   "display_name": "Python 3.10.0 64-bit",
   "language": "python",
   "name": "python3"
  },
  "language_info": {
   "codemirror_mode": {
    "name": "ipython",
    "version": 3
   },
   "file_extension": ".py",
   "mimetype": "text/x-python",
   "name": "python",
   "nbconvert_exporter": "python",
   "pygments_lexer": "ipython3",
   "version": "3.10.0"
  },
  "orig_nbformat": 4,
  "vscode": {
   "interpreter": {
    "hash": "e4238f632384955c51958c1cbeb17132fdc8a9a602388a6d4ca4d7449a346567"
   }
  }
 },
 "nbformat": 4,
 "nbformat_minor": 2
}
